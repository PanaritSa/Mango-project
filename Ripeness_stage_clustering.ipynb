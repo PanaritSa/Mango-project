{
 "cells": [
  {
   "cell_type": "code",
   "execution_count": null,
   "id": "fbd9f342-9440-4e0e-b3d9-99ee98107358",
   "metadata": {},
   "outputs": [],
   "source": [
    "# mango classification model"
   ]
  }
 ],
 "metadata": {
  "kernelspec": {
   "display_name": "Python 3 (ipykernel)",
   "language": "python",
   "name": "python3"
  },
  "language_info": {
   "codemirror_mode": {
    "name": "ipython",
    "version": 3
   },
   "file_extension": ".py",
   "mimetype": "text/x-python",
   "name": "python",
   "nbconvert_exporter": "python",
   "pygments_lexer": "ipython3",
   "version": "3.11.4"
  }
 },
 "nbformat": 4,
 "nbformat_minor": 5
}
